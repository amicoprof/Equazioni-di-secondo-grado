{
 "cells": [
  {
   "cell_type": "code",
   "execution_count": 1,
   "metadata": {},
   "outputs": [
    {
     "name": "stdout",
     "output_type": "stream",
     "text": [
      "Inserisci il coefficiente a: 0\n",
      "Inserisci il coefficiente a: 3\n",
      "Inserisci il coefficiente b: 1\n",
      "Inserisci il coefficiente c: 0\n"
     ]
    }
   ],
   "source": [
    "a = 0\n",
    "while a == 0:\n",
    "    a = float(input(\"Inserisci il coefficiente a: \"))\n",
    "    \n",
    "b = float(input(\"Inserisci il coefficiente b: \"))\n",
    "c = float(input(\"Inserisci il coefficiente c: \"))"
   ]
  },
  {
   "cell_type": "code",
   "execution_count": 2,
   "metadata": {},
   "outputs": [
    {
     "name": "stdout",
     "output_type": "stream",
     "text": [
      "3.0 1.0 0.0\n"
     ]
    }
   ],
   "source": [
    "print(a, b, c)"
   ]
  },
  {
   "cell_type": "code",
   "execution_count": 3,
   "metadata": {},
   "outputs": [],
   "source": [
    "delta = b**2 - 4 * a * c"
   ]
  },
  {
   "cell_type": "code",
   "execution_count": 4,
   "metadata": {},
   "outputs": [
    {
     "name": "stdout",
     "output_type": "stream",
     "text": [
      "1.0\n"
     ]
    }
   ],
   "source": [
    "print(delta)"
   ]
  },
  {
   "cell_type": "code",
   "execution_count": 6,
   "metadata": {},
   "outputs": [
    {
     "name": "stdout",
     "output_type": "stream",
     "text": [
      "Delta positivo. Due soluzioni reali x1= -0.3333333333333333  x2= 0.0\n"
     ]
    }
   ],
   "source": [
    "from math import sqrt\n",
    "\n",
    "\n",
    "\n",
    "a = 0\n",
    "while a == 0:\n",
    "    a = float(input(\"Inserisci il coefficiente a: \"))\n",
    "    \n",
    "b = float(input(\"Inserisci il coefficiente b: \"))\n",
    "c = float(input(\"Inserisci il coefficiente c: \"))\n",
    "\n",
    "\n",
    "\n",
    "delta = b**2 - 4 * a * c\n",
    "\n",
    "\n",
    "\n",
    "if delta < 0:\n",
    "    print(\"Delta negativo. Nessuna soluzione reale (impossibile).\")\n",
    "elif delta == 0:\n",
    "    x = (-b) / (2 * a)\n",
    "    print(\"Delta nullo. Unica soluzione x=\", x)\n",
    "else:\n",
    "    x1 = (-b - sqrt(delta)) / (2 * a)\n",
    "    x2 = (-b + sqrt(delta)) / (2 * a)\n",
    "    print(\"Delta positivo. Due soluzioni reali x1=\", x1, \" x2=\", x2)"
   ]
  },
  {
   "cell_type": "code",
   "execution_count": null,
   "metadata": {},
   "outputs": [],
   "source": []
  }
 ],
 "metadata": {
  "kernelspec": {
   "display_name": "Python 3",
   "language": "python",
   "name": "python3"
  },
  "language_info": {
   "codemirror_mode": {
    "name": "ipython",
    "version": 3
   },
   "file_extension": ".py",
   "mimetype": "text/x-python",
   "name": "python",
   "nbconvert_exporter": "python",
   "pygments_lexer": "ipython3",
   "version": "3.7.7"
  }
 },
 "nbformat": 4,
 "nbformat_minor": 4
}
